{
 "cells": [
  {
   "cell_type": "markdown",
   "metadata": {},
   "source": [
    "# ANN"
   ]
  },
  {
   "cell_type": "markdown",
   "metadata": {},
   "source": [
    "The artificial neuron receives one or more inputs (representing dendrites) and sums them to produce an output. <br/>\n",
    "It receives the input signal from the external world in the form of a pattern and image in the form of a vector. These inputs are then mathematically designated by the notations x(n) for every n number of inputs."
   ]
  },
  {
   "cell_type": "markdown",
   "metadata": {},
   "source": [
    "# Problem : Classification Problem\n",
    " Analyse the Conversion Rate"
   ]
  },
  {
   "cell_type": "code",
   "execution_count": 1,
   "metadata": {},
   "outputs": [],
   "source": [
    "#Importing Libraries\n",
    "import numpy as np\n",
    "import pandas as pd\n",
    "import tensorflow as tf\n"
   ]
  },
  {
   "cell_type": "code",
   "execution_count": 2,
   "metadata": {},
   "outputs": [
    {
     "data": {
      "text/plain": [
       "'2.1.0'"
      ]
     },
     "execution_count": 2,
     "metadata": {},
     "output_type": "execute_result"
    }
   ],
   "source": [
    "#version of tensorflow\n",
    "tf.__version__"
   ]
  },
  {
   "cell_type": "code",
   "execution_count": 3,
   "metadata": {},
   "outputs": [
    {
     "data": {
      "text/plain": [
       "'C:\\\\Users\\\\User'"
      ]
     },
     "execution_count": 3,
     "metadata": {},
     "output_type": "execute_result"
    }
   ],
   "source": [
    "pwd"
   ]
  },
  {
   "cell_type": "code",
   "execution_count": 4,
   "metadata": {},
   "outputs": [
    {
     "name": "stdout",
     "output_type": "stream",
     "text": [
      "C:\\Users\\User\\Desktop\\Anindita Mitra\\Deep Learning\\original (1)\\Machine Learning A-Z (Codes and Datasets)\\Part 8 - Deep Learning\\Section 39 - Artificial Neural Networks (ANN)\\Python\n"
     ]
    }
   ],
   "source": [
    "cd C:\\Users\\User\\Desktop\\Anindita Mitra\\Deep Learning\\original (1)\\Machine Learning A-Z (Codes and Datasets)\\Part 8 - Deep Learning\\Section 39 - Artificial Neural Networks (ANN)\\Python"
   ]
  },
  {
   "cell_type": "code",
   "execution_count": 5,
   "metadata": {},
   "outputs": [],
   "source": [
    "#importing Data Set\n",
    "df = pd.read_csv(\"Email_DL.csv\")\n"
   ]
  },
  {
   "cell_type": "code",
   "execution_count": 17,
   "metadata": {},
   "outputs": [
    {
     "data": {
      "text/html": [
       "<div>\n",
       "<style scoped>\n",
       "    .dataframe tbody tr th:only-of-type {\n",
       "        vertical-align: middle;\n",
       "    }\n",
       "\n",
       "    .dataframe tbody tr th {\n",
       "        vertical-align: top;\n",
       "    }\n",
       "\n",
       "    .dataframe thead th {\n",
       "        text-align: right;\n",
       "    }\n",
       "</style>\n",
       "<table border=\"1\" class=\"dataframe\">\n",
       "  <thead>\n",
       "    <tr style=\"text-align: right;\">\n",
       "      <th></th>\n",
       "      <th>RowNumber</th>\n",
       "      <th>Email_ID</th>\n",
       "      <th>Customer_Name</th>\n",
       "      <th>Open_Rate</th>\n",
       "      <th>Click_Rate</th>\n",
       "      <th>Conversion_Rate</th>\n",
       "    </tr>\n",
       "  </thead>\n",
       "  <tbody>\n",
       "    <tr>\n",
       "      <th>0</th>\n",
       "      <td>1</td>\n",
       "      <td>15634602</td>\n",
       "      <td>Hargrave</td>\n",
       "      <td>619</td>\n",
       "      <td>42</td>\n",
       "      <td>1</td>\n",
       "    </tr>\n",
       "    <tr>\n",
       "      <th>1</th>\n",
       "      <td>2</td>\n",
       "      <td>15647311</td>\n",
       "      <td>Hill</td>\n",
       "      <td>608</td>\n",
       "      <td>41</td>\n",
       "      <td>0</td>\n",
       "    </tr>\n",
       "    <tr>\n",
       "      <th>2</th>\n",
       "      <td>3</td>\n",
       "      <td>15619304</td>\n",
       "      <td>Onio</td>\n",
       "      <td>502</td>\n",
       "      <td>42</td>\n",
       "      <td>1</td>\n",
       "    </tr>\n",
       "    <tr>\n",
       "      <th>3</th>\n",
       "      <td>4</td>\n",
       "      <td>15701354</td>\n",
       "      <td>Boni</td>\n",
       "      <td>699</td>\n",
       "      <td>39</td>\n",
       "      <td>0</td>\n",
       "    </tr>\n",
       "    <tr>\n",
       "      <th>4</th>\n",
       "      <td>5</td>\n",
       "      <td>15737888</td>\n",
       "      <td>Mitchell</td>\n",
       "      <td>850</td>\n",
       "      <td>43</td>\n",
       "      <td>0</td>\n",
       "    </tr>\n",
       "    <tr>\n",
       "      <th>5</th>\n",
       "      <td>6</td>\n",
       "      <td>15574012</td>\n",
       "      <td>Chu</td>\n",
       "      <td>645</td>\n",
       "      <td>44</td>\n",
       "      <td>1</td>\n",
       "    </tr>\n",
       "    <tr>\n",
       "      <th>6</th>\n",
       "      <td>7</td>\n",
       "      <td>15592531</td>\n",
       "      <td>Bartlett</td>\n",
       "      <td>822</td>\n",
       "      <td>50</td>\n",
       "      <td>0</td>\n",
       "    </tr>\n",
       "    <tr>\n",
       "      <th>7</th>\n",
       "      <td>8</td>\n",
       "      <td>15656148</td>\n",
       "      <td>Obinna</td>\n",
       "      <td>376</td>\n",
       "      <td>29</td>\n",
       "      <td>1</td>\n",
       "    </tr>\n",
       "    <tr>\n",
       "      <th>8</th>\n",
       "      <td>9</td>\n",
       "      <td>15792365</td>\n",
       "      <td>He</td>\n",
       "      <td>501</td>\n",
       "      <td>44</td>\n",
       "      <td>0</td>\n",
       "    </tr>\n",
       "    <tr>\n",
       "      <th>9</th>\n",
       "      <td>10</td>\n",
       "      <td>15592389</td>\n",
       "      <td>H?</td>\n",
       "      <td>684</td>\n",
       "      <td>27</td>\n",
       "      <td>0</td>\n",
       "    </tr>\n",
       "  </tbody>\n",
       "</table>\n",
       "</div>"
      ],
      "text/plain": [
       "   RowNumber  Email_ID Customer_Name  Open_Rate  Click_Rate  Conversion_Rate\n",
       "0          1  15634602      Hargrave        619          42                1\n",
       "1          2  15647311          Hill        608          41                0\n",
       "2          3  15619304          Onio        502          42                1\n",
       "3          4  15701354          Boni        699          39                0\n",
       "4          5  15737888      Mitchell        850          43                0\n",
       "5          6  15574012           Chu        645          44                1\n",
       "6          7  15592531      Bartlett        822          50                0\n",
       "7          8  15656148        Obinna        376          29                1\n",
       "8          9  15792365            He        501          44                0\n",
       "9         10  15592389            H?        684          27                0"
      ]
     },
     "execution_count": 17,
     "metadata": {},
     "output_type": "execute_result"
    }
   ],
   "source": [
    "df.head(10)"
   ]
  },
  {
   "cell_type": "code",
   "execution_count": 6,
   "metadata": {},
   "outputs": [],
   "source": [
    "#defining X & Y\n",
    "x = df.iloc[:,3:-1].values\n",
    "y=df.iloc[:,-1].values"
   ]
  },
  {
   "cell_type": "code",
   "execution_count": 7,
   "metadata": {},
   "outputs": [
    {
     "name": "stdout",
     "output_type": "stream",
     "text": [
      "[[619  42]\n",
      " [608  41]\n",
      " [502  42]\n",
      " ...\n",
      " [709  36]\n",
      " [772  42]\n",
      " [792  28]]\n"
     ]
    }
   ],
   "source": [
    "print(x)"
   ]
  },
  {
   "cell_type": "code",
   "execution_count": 8,
   "metadata": {},
   "outputs": [
    {
     "name": "stdout",
     "output_type": "stream",
     "text": [
      "[1 0 1 ... 1 1 0]\n"
     ]
    }
   ],
   "source": [
    "print(y)"
   ]
  },
  {
   "cell_type": "code",
   "execution_count": 9,
   "metadata": {},
   "outputs": [],
   "source": [
    "from sklearn.model_selection import train_test_split"
   ]
  },
  {
   "cell_type": "code",
   "execution_count": 10,
   "metadata": {},
   "outputs": [],
   "source": [
    "x_train, x_test, y_train, y_test = train_test_split (x , y, test_size=0.2, random_state=0)"
   ]
  },
  {
   "cell_type": "markdown",
   "metadata": {},
   "source": [
    "# Initializing ANN"
   ]
  },
  {
   "cell_type": "code",
   "execution_count": 11,
   "metadata": {},
   "outputs": [],
   "source": [
    "ann = tf.keras.models.Sequential()"
   ]
  },
  {
   "cell_type": "code",
   "execution_count": 12,
   "metadata": {},
   "outputs": [],
   "source": [
    "# Adding input layer and first hidden layer\n",
    "ann.add(tf.keras.layers.Dense(units=6, activation='relu'))"
   ]
  },
  {
   "cell_type": "code",
   "execution_count": 13,
   "metadata": {},
   "outputs": [],
   "source": [
    "# Adding second hidden layer\n",
    "ann.add(tf.keras.layers.Dense(units=6, activation='relu'))"
   ]
  },
  {
   "cell_type": "code",
   "execution_count": 14,
   "metadata": {},
   "outputs": [],
   "source": [
    "# Adding output layer\n",
    "ann.add(tf.keras.layers.Dense(units=1, activation='sigmoid'))"
   ]
  },
  {
   "cell_type": "markdown",
   "metadata": {},
   "source": [
    "# Compling the ANN"
   ]
  },
  {
   "cell_type": "code",
   "execution_count": 15,
   "metadata": {},
   "outputs": [],
   "source": [
    "ann.compile(optimizer = 'adam', loss = 'binary_crossentropy', metrics = ['accuracy'])"
   ]
  },
  {
   "cell_type": "markdown",
   "metadata": {},
   "source": [
    "# Training the ANN"
   ]
  },
  {
   "cell_type": "code",
   "execution_count": 16,
   "metadata": {},
   "outputs": [
    {
     "name": "stdout",
     "output_type": "stream",
     "text": [
      "Train on 8000 samples\n",
      "Epoch 1/100\n",
      "8000/8000 [==============================] - 3s 419us/sample - loss: 4.2801 - accuracy: 0.6961\n",
      "Epoch 2/100\n",
      "8000/8000 [==============================] - 1s 92us/sample - loss: 0.4968 - accuracy: 0.7931\n",
      "Epoch 3/100\n",
      "8000/8000 [==============================] - 1s 110us/sample - loss: 0.4942 - accuracy: 0.7878\n",
      "Epoch 4/100\n",
      "8000/8000 [==============================] - 1s 137us/sample - loss: 0.4978 - accuracy: 0.7862\n",
      "Epoch 5/100\n",
      "8000/8000 [==============================] - 1s 78us/sample - loss: 0.4984 - accuracy: 0.7915\n",
      "Epoch 6/100\n",
      "8000/8000 [==============================] - 1s 79us/sample - loss: 0.4921 - accuracy: 0.7879\n",
      "Epoch 7/100\n",
      "8000/8000 [==============================] - 1s 90us/sample - loss: 0.5110 - accuracy: 0.7875\n",
      "Epoch 8/100\n",
      "8000/8000 [==============================] - 1s 84us/sample - loss: 0.4981 - accuracy: 0.7876\n",
      "Epoch 9/100\n",
      "8000/8000 [==============================] - 1s 74us/sample - loss: 0.5091 - accuracy: 0.7849\n",
      "Epoch 10/100\n",
      "8000/8000 [==============================] - ETA: 0s - loss: 0.5081 - accuracy: 0.78 - 1s 80us/sample - loss: 0.5062 - accuracy: 0.7830\n",
      "Epoch 11/100\n",
      "8000/8000 [==============================] - 1s 87us/sample - loss: 0.5086 - accuracy: 0.7824\n",
      "Epoch 12/100\n",
      "8000/8000 [==============================] - 1s 77us/sample - loss: 0.4945 - accuracy: 0.7843\n",
      "Epoch 13/100\n",
      "8000/8000 [==============================] - 1s 73us/sample - loss: 0.4996 - accuracy: 0.7865\n",
      "Epoch 14/100\n",
      "8000/8000 [==============================] - 1s 76us/sample - loss: 0.4956 - accuracy: 0.7832\n",
      "Epoch 15/100\n",
      "8000/8000 [==============================] - 1s 76us/sample - loss: 0.4926 - accuracy: 0.7830\n",
      "Epoch 16/100\n",
      "8000/8000 [==============================] - 1s 76us/sample - loss: 0.4884 - accuracy: 0.7895\n",
      "Epoch 17/100\n",
      "8000/8000 [==============================] - 1s 134us/sample - loss: 0.4937 - accuracy: 0.7872\n",
      "Epoch 18/100\n",
      "8000/8000 [==============================] - 1s 164us/sample - loss: 0.4940 - accuracy: 0.7837\n",
      "Epoch 19/100\n",
      "8000/8000 [==============================] - 1s 141us/sample - loss: 0.4934 - accuracy: 0.7849\n",
      "Epoch 20/100\n",
      "8000/8000 [==============================] - 1s 115us/sample - loss: 0.4943 - accuracy: 0.7834\n",
      "Epoch 21/100\n",
      "8000/8000 [==============================] - 1s 97us/sample - loss: 0.4941 - accuracy: 0.7836\n",
      "Epoch 22/100\n",
      "8000/8000 [==============================] - 1s 96us/sample - loss: 0.4998 - accuracy: 0.7851\n",
      "Epoch 23/100\n",
      "8000/8000 [==============================] - 1s 74us/sample - loss: 0.4919 - accuracy: 0.7859\n",
      "Epoch 24/100\n",
      "8000/8000 [==============================] - 1s 83us/sample - loss: 0.4901 - accuracy: 0.7839\n",
      "Epoch 25/100\n",
      "8000/8000 [==============================] - 1s 83us/sample - loss: 0.4923 - accuracy: 0.7841\n",
      "Epoch 26/100\n",
      "8000/8000 [==============================] - 1s 84us/sample - loss: 0.4938 - accuracy: 0.7853\n",
      "Epoch 27/100\n",
      "8000/8000 [==============================] - 1s 75us/sample - loss: 0.4893 - accuracy: 0.7821\n",
      "Epoch 28/100\n",
      "8000/8000 [==============================] - 1s 79us/sample - loss: 0.4956 - accuracy: 0.7855\n",
      "Epoch 29/100\n",
      "8000/8000 [==============================] - 1s 83us/sample - loss: 0.4901 - accuracy: 0.7851\n",
      "Epoch 30/100\n",
      "8000/8000 [==============================] - 1s 81us/sample - loss: 0.4864 - accuracy: 0.7830\n",
      "Epoch 31/100\n",
      "8000/8000 [==============================] - 1s 80us/sample - loss: 0.4835 - accuracy: 0.7832s - loss: 0\n",
      "Epoch 32/100\n",
      "8000/8000 [==============================] - 1s 74us/sample - loss: 0.4875 - accuracy: 0.7822\n",
      "Epoch 33/100\n",
      "8000/8000 [==============================] - 1s 79us/sample - loss: 0.4836 - accuracy: 0.7814\n",
      "Epoch 34/100\n",
      "8000/8000 [==============================] - 1s 81us/sample - loss: 0.4864 - accuracy: 0.7818s - loss: 0.503\n",
      "Epoch 35/100\n",
      "8000/8000 [==============================] - 1s 78us/sample - loss: 0.4911 - accuracy: 0.7836\n",
      "Epoch 36/100\n",
      "8000/8000 [==============================] - 1s 142us/sample - loss: 0.4849 - accuracy: 0.7844\n",
      "Epoch 37/100\n",
      "8000/8000 [==============================] - 1s 126us/sample - loss: 0.4847 - accuracy: 0.7821\n",
      "Epoch 38/100\n",
      "8000/8000 [==============================] - 1s 158us/sample - loss: 0.4836 - accuracy: 0.7824\n",
      "Epoch 39/100\n",
      "8000/8000 [==============================] - 1s 140us/sample - loss: 0.4893 - accuracy: 0.7828\n",
      "Epoch 40/100\n",
      "8000/8000 [==============================] - 1s 146us/sample - loss: 0.4832 - accuracy: 0.7811\n",
      "Epoch 41/100\n",
      "8000/8000 [==============================] - 1s 132us/sample - loss: 0.4821 - accuracy: 0.7849\n",
      "Epoch 42/100\n",
      "8000/8000 [==============================] - ETA: 0s - loss: 0.4889 - accuracy: 0.78 - 1s 153us/sample - loss: 0.4883 - accuracy: 0.7815\n",
      "Epoch 43/100\n",
      "8000/8000 [==============================] - 1s 94us/sample - loss: 0.4817 - accuracy: 0.7818\n",
      "Epoch 44/100\n",
      "8000/8000 [==============================] - 1s 88us/sample - loss: 0.4870 - accuracy: 0.7794\n",
      "Epoch 45/100\n",
      "8000/8000 [==============================] - 1s 125us/sample - loss: 0.4812 - accuracy: 0.7819\n",
      "Epoch 46/100\n",
      "8000/8000 [==============================] - 1s 93us/sample - loss: 0.4826 - accuracy: 0.7840\n",
      "Epoch 47/100\n",
      "8000/8000 [==============================] - 1s 187us/sample - loss: 0.4831 - accuracy: 0.7849 - loss: 0.4665 - accu - ETA\n",
      "Epoch 48/100\n",
      "8000/8000 [==============================] - 1s 156us/sample - loss: 0.4804 - accuracy: 0.7830\n",
      "Epoch 49/100\n",
      "8000/8000 [==============================] - 1s 130us/sample - loss: 0.4772 - accuracy: 0.7826\n",
      "Epoch 50/100\n",
      "8000/8000 [==============================] - 1s 101us/sample - loss: 0.4773 - accuracy: 0.7807\n",
      "Epoch 51/100\n",
      "8000/8000 [==============================] - 1s 107us/sample - loss: 0.4788 - accuracy: 0.7803\n",
      "Epoch 52/100\n",
      "8000/8000 [==============================] - 1s 121us/sample - loss: 0.4796 - accuracy: 0.7821\n",
      "Epoch 53/100\n",
      "8000/8000 [==============================] - 1s 152us/sample - loss: 0.4765 - accuracy: 0.7820\n",
      "Epoch 54/100\n",
      "8000/8000 [==============================] - 1s 89us/sample - loss: 0.4751 - accuracy: 0.7816\n",
      "Epoch 55/100\n",
      "8000/8000 [==============================] - 1s 121us/sample - loss: 0.4778 - accuracy: 0.7811\n",
      "Epoch 56/100\n",
      "8000/8000 [==============================] - 1s 124us/sample - loss: 0.4728 - accuracy: 0.7814\n",
      "Epoch 57/100\n",
      "8000/8000 [==============================] - 1s 110us/sample - loss: 0.4737 - accuracy: 0.7815\n",
      "Epoch 58/100\n",
      "8000/8000 [==============================] - 1s 103us/sample - loss: 0.4739 - accuracy: 0.7840\n",
      "Epoch 59/100\n",
      "8000/8000 [==============================] - 1s 122us/sample - loss: 0.4721 - accuracy: 0.7824\n",
      "Epoch 60/100\n",
      "8000/8000 [==============================] - 1s 83us/sample - loss: 0.4731 - accuracy: 0.7825\n",
      "Epoch 61/100\n",
      "8000/8000 [==============================] - 1s 81us/sample - loss: 0.4712 - accuracy: 0.7837\n",
      "Epoch 62/100\n",
      "8000/8000 [==============================] - 1s 89us/sample - loss: 0.4732 - accuracy: 0.7856\n",
      "Epoch 63/100\n",
      "8000/8000 [==============================] - 1s 90us/sample - loss: 0.4683 - accuracy: 0.7855\n",
      "Epoch 64/100\n",
      "8000/8000 [==============================] - 1s 91us/sample - loss: 0.4686 - accuracy: 0.7866\n",
      "Epoch 65/100\n",
      "8000/8000 [==============================] - 1s 83us/sample - loss: 0.4695 - accuracy: 0.7871\n",
      "Epoch 66/100\n",
      "8000/8000 [==============================] - 1s 83us/sample - loss: 0.4683 - accuracy: 0.7883\n",
      "Epoch 67/100\n",
      "8000/8000 [==============================] - 1s 90us/sample - loss: 0.4686 - accuracy: 0.7908\n",
      "Epoch 68/100\n",
      "8000/8000 [==============================] - 1s 97us/sample - loss: 0.4707 - accuracy: 0.7906\n",
      "Epoch 69/100\n",
      "8000/8000 [==============================] - 1s 79us/sample - loss: 0.4677 - accuracy: 0.7875\n",
      "Epoch 70/100\n",
      "8000/8000 [==============================] - 1s 71us/sample - loss: 0.4646 - accuracy: 0.7886\n",
      "Epoch 71/100\n",
      "8000/8000 [==============================] - 1s 83us/sample - loss: 0.4663 - accuracy: 0.7904\n",
      "Epoch 72/100\n",
      "8000/8000 [==============================] - 1s 74us/sample - loss: 0.4644 - accuracy: 0.7906\n",
      "Epoch 73/100\n",
      "8000/8000 [==============================] - 1s 93us/sample - loss: 0.4647 - accuracy: 0.7887\n",
      "Epoch 74/100\n",
      "8000/8000 [==============================] - 1s 92us/sample - loss: 0.4650 - accuracy: 0.7868s - los\n",
      "Epoch 75/100\n",
      "8000/8000 [==============================] - 1s 95us/sample - loss: 0.4647 - accuracy: 0.7897\n",
      "Epoch 76/100\n",
      "8000/8000 [==============================] - 1s 90us/sample - loss: 0.4640 - accuracy: 0.7901\n",
      "Epoch 77/100\n",
      "8000/8000 [==============================] - 1s 95us/sample - loss: 0.4651 - accuracy: 0.7878\n",
      "Epoch 78/100\n",
      "8000/8000 [==============================] - 1s 91us/sample - loss: 0.4645 - accuracy: 0.7878\n",
      "Epoch 79/100\n",
      "8000/8000 [==============================] - 1s 69us/sample - loss: 0.4639 - accuracy: 0.7871\n",
      "Epoch 80/100\n",
      "8000/8000 [==============================] - 1s 68us/sample - loss: 0.4629 - accuracy: 0.7851\n",
      "Epoch 81/100\n",
      "8000/8000 [==============================] - 1s 73us/sample - loss: 0.4639 - accuracy: 0.7909\n",
      "Epoch 82/100\n",
      "8000/8000 [==============================] - 1s 73us/sample - loss: 0.4640 - accuracy: 0.7876\n",
      "Epoch 83/100\n",
      "8000/8000 [==============================] - 1s 79us/sample - loss: 0.4623 - accuracy: 0.7872\n",
      "Epoch 84/100\n",
      "8000/8000 [==============================] - 1s 82us/sample - loss: 0.4618 - accuracy: 0.7886\n",
      "Epoch 85/100\n",
      "8000/8000 [==============================] - 1s 71us/sample - loss: 0.4621 - accuracy: 0.7862\n",
      "Epoch 86/100\n",
      "8000/8000 [==============================] - 1s 85us/sample - loss: 0.4624 - accuracy: 0.7878\n",
      "Epoch 87/100\n",
      "8000/8000 [==============================] - 1s 67us/sample - loss: 0.4621 - accuracy: 0.7871\n",
      "Epoch 88/100\n",
      "8000/8000 [==============================] - 1s 70us/sample - loss: 0.4614 - accuracy: 0.7872\n",
      "Epoch 89/100\n",
      "8000/8000 [==============================] - 1s 71us/sample - loss: 0.4616 - accuracy: 0.7859\n",
      "Epoch 90/100\n",
      "8000/8000 [==============================] - 1s 68us/sample - loss: 0.4641 - accuracy: 0.7912\n",
      "Epoch 91/100\n",
      "8000/8000 [==============================] - 1s 66us/sample - loss: 0.4606 - accuracy: 0.7868\n",
      "Epoch 92/100\n",
      "8000/8000 [==============================] - 1s 65us/sample - loss: 0.4604 - accuracy: 0.7890\n",
      "Epoch 93/100\n",
      "8000/8000 [==============================] - 1s 66us/sample - loss: 0.4631 - accuracy: 0.7920\n",
      "Epoch 94/100\n",
      "8000/8000 [==============================] - 1s 66us/sample - loss: 0.4618 - accuracy: 0.7900\n",
      "Epoch 95/100\n",
      "8000/8000 [==============================] - 1s 66us/sample - loss: 0.4601 - accuracy: 0.7954\n",
      "Epoch 96/100\n",
      "8000/8000 [==============================] - 1s 118us/sample - loss: 0.4593 - accuracy: 0.7903\n",
      "Epoch 97/100\n",
      "8000/8000 [==============================] - 1s 132us/sample - loss: 0.4598 - accuracy: 0.7895\n",
      "Epoch 98/100\n",
      "8000/8000 [==============================] - 1s 148us/sample - loss: 0.4596 - accuracy: 0.7922 - loss:\n",
      "Epoch 99/100\n",
      "8000/8000 [==============================] - 1s 115us/sample - loss: 0.4592 - accuracy: 0.7935\n",
      "Epoch 100/100\n",
      "8000/8000 [==============================] - 0s 54us/sample - loss: 0.4597 - accuracy: 0.7926\n"
     ]
    },
    {
     "data": {
      "text/plain": [
       "<tensorflow.python.keras.callbacks.History at 0x16df4572d08>"
      ]
     },
     "execution_count": 16,
     "metadata": {},
     "output_type": "execute_result"
    }
   ],
   "source": [
    "ann.fit(x_train, y_train, batch_size = 32, epochs=100)"
   ]
  },
  {
   "cell_type": "markdown",
   "metadata": {},
   "source": [
    "# Prediction"
   ]
  },
  {
   "cell_type": "markdown",
   "metadata": {},
   "source": [
    "If Open Rate is 727 and click rate is 450 : what should be the conversion rate?\n"
   ]
  },
  {
   "cell_type": "code",
   "execution_count": 21,
   "metadata": {},
   "outputs": [
    {
     "name": "stdout",
     "output_type": "stream",
     "text": [
      "[[1.]]\n"
     ]
    }
   ],
   "source": [
    "print(ann.predict([[727,450]]))"
   ]
  },
  {
   "cell_type": "markdown",
   "metadata": {},
   "source": [
    "# Predicting Y_Pred"
   ]
  },
  {
   "cell_type": "code",
   "execution_count": 24,
   "metadata": {},
   "outputs": [],
   "source": [
    "y_pred = ann.predict(x_test)"
   ]
  },
  {
   "cell_type": "code",
   "execution_count": 26,
   "metadata": {},
   "outputs": [],
   "source": [
    "y_pred = (y_pred > 0.5)"
   ]
  },
  {
   "cell_type": "markdown",
   "metadata": {},
   "source": [
    "# Confusion Matrix"
   ]
  },
  {
   "cell_type": "code",
   "execution_count": 27,
   "metadata": {},
   "outputs": [
    {
     "name": "stdout",
     "output_type": "stream",
     "text": [
      "[[1584   11]\n",
      " [ 399    6]]\n"
     ]
    }
   ],
   "source": [
    "#Confusion Matrix\n",
    "# No of correct and incorrt prdection\n",
    "from sklearn.metrics import confusion_matrix, accuracy_score\n",
    "cm = confusion_matrix(y_test, y_pred)\n",
    "print(cm)"
   ]
  },
  {
   "cell_type": "markdown",
   "metadata": {},
   "source": [
    "1584 : correct prediction : no conversion (0) <br/>\n",
    "6 : Correct Prediction : yes conversion (1)<br/>\n",
    "11 : Incorrect Prediction : yes conversion (1)<br/>\n",
    "399 : Incorrect Prediction : n0 conversion(0)<br/>\n"
   ]
  },
  {
   "cell_type": "code",
   "execution_count": 28,
   "metadata": {},
   "outputs": [
    {
     "data": {
      "text/plain": [
       "0.795"
      ]
     },
     "execution_count": 28,
     "metadata": {},
     "output_type": "execute_result"
    }
   ],
   "source": [
    "#.82 % is the corrt prediction\n",
    "accuracy_score(y_test, y_pred) "
   ]
  },
  {
   "cell_type": "code",
   "execution_count": null,
   "metadata": {},
   "outputs": [],
   "source": []
  }
 ],
 "metadata": {
  "kernelspec": {
   "display_name": "Python 3",
   "language": "python",
   "name": "python3"
  },
  "language_info": {
   "codemirror_mode": {
    "name": "ipython",
    "version": 3
   },
   "file_extension": ".py",
   "mimetype": "text/x-python",
   "name": "python",
   "nbconvert_exporter": "python",
   "pygments_lexer": "ipython3",
   "version": "3.7.6"
  }
 },
 "nbformat": 4,
 "nbformat_minor": 4
}
